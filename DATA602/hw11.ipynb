{
 "cells": [
  {
   "cell_type": "code",
   "execution_count": 7,
   "metadata": {
    "collapsed": true,
    "deletable": true,
    "editable": true
   },
   "outputs": [],
   "source": [
    "# set plots to showup inline and load packages\n",
    "\n",
    "%matplotlib inline\n",
    "\n",
    "import numpy as np\n",
    "import pandas as pd\n",
    "import matplotlib.pyplot as plt\n",
    "import seaborn as sns"
   ]
  },
  {
   "cell_type": "code",
   "execution_count": 8,
   "metadata": {
    "collapsed": false,
    "deletable": true,
    "editable": true
   },
   "outputs": [],
   "source": [
    "apple = pd.read_csv('/Users/brucehao/Google Drive/CUNY/git/DATA602/apple.2011.csv')"
   ]
  },
  {
   "cell_type": "code",
   "execution_count": 9,
   "metadata": {
    "collapsed": false,
    "deletable": true,
    "editable": true
   },
   "outputs": [
    {
     "name": "stdout",
     "output_type": "stream",
     "text": [
      "<class 'pandas.core.frame.DataFrame'>\n",
      "RangeIndex: 252 entries, 0 to 251\n",
      "Data columns (total 3 columns):\n",
      "Date          252 non-null object\n",
      "Last          252 non-null float64\n",
      "Unnamed: 2    252 non-null object\n",
      "dtypes: float64(1), object(2)\n",
      "memory usage: 6.0+ KB\n"
     ]
    }
   ],
   "source": [
    "# note percent change column is unmamed and of type object\n",
    "apple.head()\n",
    "apple.info()"
   ]
  },
  {
   "cell_type": "code",
   "execution_count": 10,
   "metadata": {
    "collapsed": false,
    "deletable": true,
    "editable": true
   },
   "outputs": [
    {
     "name": "stdout",
     "output_type": "stream",
     "text": [
      "<class 'pandas.core.frame.DataFrame'>\n",
      "RangeIndex: 251 entries, 1 to 251\n",
      "Data columns (total 3 columns):\n",
      "Date         251 non-null object\n",
      "Last         251 non-null float64\n",
      "PctChange    251 non-null float64\n",
      "dtypes: float64(2), object(1)\n",
      "memory usage: 6.0+ KB\n"
     ]
    },
    {
     "data": {
      "text/html": [
       "<div>\n",
       "<table border=\"1\" class=\"dataframe\">\n",
       "  <thead>\n",
       "    <tr style=\"text-align: right;\">\n",
       "      <th></th>\n",
       "      <th>Date</th>\n",
       "      <th>Last</th>\n",
       "      <th>PctChange</th>\n",
       "    </tr>\n",
       "  </thead>\n",
       "  <tbody>\n",
       "    <tr>\n",
       "      <th>247</th>\n",
       "      <td>12/23/2011</td>\n",
       "      <td>403.33</td>\n",
       "      <td>0.011993</td>\n",
       "    </tr>\n",
       "    <tr>\n",
       "      <th>248</th>\n",
       "      <td>12/27/2011</td>\n",
       "      <td>406.53</td>\n",
       "      <td>0.007934</td>\n",
       "    </tr>\n",
       "    <tr>\n",
       "      <th>249</th>\n",
       "      <td>12/28/2011</td>\n",
       "      <td>402.64</td>\n",
       "      <td>-0.009569</td>\n",
       "    </tr>\n",
       "    <tr>\n",
       "      <th>250</th>\n",
       "      <td>12/29/2011</td>\n",
       "      <td>405.12</td>\n",
       "      <td>0.006159</td>\n",
       "    </tr>\n",
       "    <tr>\n",
       "      <th>251</th>\n",
       "      <td>12/30/2011</td>\n",
       "      <td>405.00</td>\n",
       "      <td>-0.000296</td>\n",
       "    </tr>\n",
       "  </tbody>\n",
       "</table>\n",
       "</div>"
      ],
      "text/plain": [
       "           Date    Last  PctChange\n",
       "247  12/23/2011  403.33   0.011993\n",
       "248  12/27/2011  406.53   0.007934\n",
       "249  12/28/2011  402.64  -0.009569\n",
       "250  12/29/2011  405.12   0.006159\n",
       "251  12/30/2011  405.00  -0.000296"
      ]
     },
     "execution_count": 10,
     "metadata": {},
     "output_type": "execute_result"
    }
   ],
   "source": [
    "# rename columns, drop first row and change PctChange column to numeric type\n",
    "apple.columns = ['Date', 'Last', 'PctChange']\n",
    "apple = apple.iloc[1:,]\n",
    "apple['PctChange'] = pd.to_numeric(apple['PctChange'])\n",
    "apple.info()\n",
    "apple.tail()"
   ]
  },
  {
   "cell_type": "code",
   "execution_count": 11,
   "metadata": {
    "collapsed": false,
    "deletable": true,
    "editable": true
   },
   "outputs": [
    {
     "data": {
      "text/plain": [
       "413.26532619600533"
      ]
     },
     "execution_count": 11,
     "metadata": {},
     "output_type": "execute_result"
    }
   ],
   "source": [
    "# function to generate t+20 day stock price based on bootstrapping\n",
    "def gen_price_t20():\n",
    "    #np.random.seed(123)\n",
    "    x = apple.PctChange.values\n",
    "    ret = np.random.choice(x, size=20, replace=True)\n",
    "    ret_cum = np.exp(np.sum(np.log(ret + 1)))\n",
    "    price = apple.Last.tail(1).values\n",
    "    return np.asscalar(price * ret_cum)\n",
    "\n",
    "gen_price_t20()"
   ]
  },
  {
   "cell_type": "code",
   "execution_count": 15,
   "metadata": {
    "collapsed": false,
    "deletable": true,
    "editable": true
   },
   "outputs": [
    {
     "name": "stdout",
     "output_type": "stream",
     "text": [
      "CPU times: user 17 s, sys: 172 ms, total: 17.2 s\n",
      "Wall time: 17.2 s\n"
     ]
    }
   ],
   "source": [
    "%%time\n",
    "\n",
    "# generate 10000 t+20 day stock prices\n",
    "sim = []\n",
    "for i in np.arange(100000):\n",
    "    sim.append(gen_price_t20())"
   ]
  },
  {
   "cell_type": "code",
   "execution_count": 13,
   "metadata": {
    "collapsed": false,
    "deletable": true,
    "editable": true
   },
   "outputs": [
    {
     "data": {
      "text/plain": [
       "<matplotlib.axes._subplots.AxesSubplot at 0x1136e46a0>"
      ]
     },
     "execution_count": 13,
     "metadata": {},
     "output_type": "execute_result"
    },
    {
     "data": {
      "image/png": "[encoded data removed]",
      "text/plain": [
       "<matplotlib.figure.Figure at 0x10f264588>"
      ]
     },
     "metadata": {},
     "output_type": "display_data"
    }
   ],
   "source": [
    "sns.distplot(sim)"
   ]
  },
  {
   "cell_type": "code",
   "execution_count": 14,
   "metadata": {
    "collapsed": false,
    "deletable": true,
    "editable": true
   },
   "outputs": [
    {
     "data": {
      "text/plain": [
       "309.26831898530003"
      ]
     },
     "execution_count": 14,
     "metadata": {},
     "output_type": "execute_result"
    }
   ],
   "source": [
    "# show 1% percentile stock value\n",
    "np.percentile(sim, 0.01)"
   ]
  }
 ],
 "metadata": {
  "kernelspec": {
   "display_name": "Python 3",
   "language": "python",
   "name": "python3"
  },
  "language_info": {
   "codemirror_mode": {
    "name": "ipython",
    "version": 3
   },
   "file_extension": ".py",
   "mimetype": "text/x-python",
   "name": "python",
   "nbconvert_exporter": "python",
   "pygments_lexer": "ipython3",
   "version": "3.5.2"
  }
 },
 "nbformat": 4,
 "nbformat_minor": 2
}
