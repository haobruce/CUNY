{
 "cells": [
  {
   "cell_type": "code",
   "execution_count": 43,
   "metadata": {
    "collapsed": false,
    "deletable": true,
    "editable": true
   },
   "outputs": [
    {
     "name": "stdout",
     "output_type": "stream",
     "text": [
      "[0, 1, 2, 3]\n"
     ]
    }
   ],
   "source": [
    "# in terminal run command:\n",
    "# ipcluster start -n 4\n",
    "\n",
    "from IPython import parallel\n",
    "clients = parallel.Client()\n",
    "clients.block = True\n",
    "print(clients.ids)\n",
    "\n",
    "dview = clients.direct_view()"
   ]
  },
  {
   "cell_type": "markdown",
   "metadata": {},
   "source": [
    "Use %%px and %%time at top of cells where parallel processing and timing are required."
   ]
  },
  {
   "cell_type": "code",
   "execution_count": 44,
   "metadata": {
    "collapsed": false,
    "deletable": true,
    "editable": true
   },
   "outputs": [],
   "source": [
    "%%px\n",
    "\n",
    "# set plots to showup inline and load packages\n",
    "%matplotlib inline\n",
    "\n",
    "import numpy as np\n",
    "import pandas as pd\n",
    "import matplotlib.pyplot as plt\n",
    "import seaborn as sns"
   ]
  },
  {
   "cell_type": "code",
   "execution_count": 45,
   "metadata": {
    "collapsed": false,
    "deletable": true,
    "editable": true
   },
   "outputs": [],
   "source": [
    "%%px\n",
    "\n",
    "apple = pd.read_csv('/Users/brucehao/Google Drive/CUNY/git/DATA602/apple.2011.csv')"
   ]
  },
  {
   "cell_type": "code",
   "execution_count": 46,
   "metadata": {
    "collapsed": false,
    "deletable": true,
    "editable": true
   },
   "outputs": [],
   "source": [
    "%%px\n",
    "\n",
    "# rename columns, drop first row and change PctChange column to numeric type\n",
    "apple.columns = ['Date', 'Last', 'PctChange']\n",
    "apple = apple.iloc[1:,]\n",
    "apple['PctChange'] = pd.to_numeric(apple['PctChange'])\n",
    "#apple.info()\n",
    "#apple.tail()"
   ]
  },
  {
   "cell_type": "code",
   "execution_count": 47,
   "metadata": {
    "collapsed": false,
    "deletable": true,
    "editable": true
   },
   "outputs": [
    {
     "data": {
      "text/plain": [
       "\u001b[0;31mOut[0:29]: \u001b[0m403.5383459540296"
      ]
     },
     "metadata": {},
     "output_type": "display_data"
    },
    {
     "data": {
      "text/plain": [
       "\u001b[0;31mOut[1:29]: \u001b[0m378.2181236114576"
      ]
     },
     "metadata": {},
     "output_type": "display_data"
    },
    {
     "data": {
      "text/plain": [
       "\u001b[0;31mOut[2:29]: \u001b[0m426.3794321838466"
      ]
     },
     "metadata": {},
     "output_type": "display_data"
    },
    {
     "data": {
      "text/plain": [
       "\u001b[0;31mOut[3:29]: \u001b[0m395.25660679994337"
      ]
     },
     "metadata": {},
     "output_type": "display_data"
    }
   ],
   "source": [
    "%%px\n",
    "\n",
    "# function to generate t+20 day stock price based on bootstrapping\n",
    "def gen_price_t20():\n",
    "    #np.random.seed(123)\n",
    "    x = apple.PctChange.values\n",
    "    ret = np.random.choice(x, size=20, replace=True)\n",
    "    ret_cum = np.exp(np.sum(np.log(ret + 1)))\n",
    "    price = apple.Last.tail(1).values\n",
    "    return np.asscalar(price * ret_cum)\n",
    "\n",
    "gen_price_t20()"
   ]
  },
  {
   "cell_type": "code",
   "execution_count": 48,
   "metadata": {
    "collapsed": false,
    "deletable": true,
    "editable": true
   },
   "outputs": [
    {
     "name": "stdout",
     "output_type": "stream",
     "text": [
      "[stdout:0] \n",
      "CPU times: user 7.63 s, sys: 27.6 ms, total: 7.66 s\n",
      "Wall time: 8.11 s\n",
      "[stdout:1] \n",
      "CPU times: user 7.64 s, sys: 27.4 ms, total: 7.67 s\n",
      "Wall time: 8.16 s\n",
      "[stdout:2] \n",
      "CPU times: user 7.68 s, sys: 29 ms, total: 7.71 s\n",
      "Wall time: 8.2 s\n",
      "[stdout:3] \n",
      "CPU times: user 7.55 s, sys: 27.4 ms, total: 7.58 s\n",
      "Wall time: 8.1 s\n"
     ]
    }
   ],
   "source": [
    "%%px\n",
    "%%time\n",
    "\n",
    "# generate 10000 t+20 day stock prices\n",
    "sim = []\n",
    "for i in np.arange(25000):\n",
    "    sim.append(gen_price_t20())"
   ]
  },
  {
   "cell_type": "code",
   "execution_count": null,
   "metadata": {
    "collapsed": false
   },
   "outputs": [
    {
     "data": {
      "text/plain": [
       "100000"
      ]
     },
     "execution_count": 49,
     "metadata": {},
     "output_type": "execute_result"
    },
    {
     "data": {
      "image/png": "[encoded data removed]",
      "text/plain": [
       "<matplotlib.figure.Figure at 0x109976588>"
      ]
     },
     "metadata": {},
     "output_type": "display_data"
    }
   ],
   "source": [
    "# combine the sim results from each client\n",
    "# check that total = 100,000\n",
    "sim = dview.gather('sim')\n",
    "sns.distplot(sim)\n",
    "len(sim)"
   ]
  },
  {
   "cell_type": "code",
   "execution_count": null,
   "metadata": {
    "collapsed": false
   },
   "outputs": [],
   "source": [
    "%%time\n",
    "\n",
    "sim_slow = []\n",
    "for i in np.arange(100000):\n",
    "    sim.append(gen_price_t20())"
   ]
  },
  {
   "cell_type": "markdown",
   "metadata": {},
   "source": [
    "Running 25,000 simulations on each of 4 processors took just under 8 seconds; running 100,000 simulations on 1 processor took about 15 seconds. "
   ]
  }
 ],
 "metadata": {
  "kernelspec": {
   "display_name": "Python 3",
   "language": "python",
   "name": "python3"
  },
  "language_info": {
   "codemirror_mode": {
    "name": "ipython",
    "version": 3
   },
   "file_extension": ".py",
   "mimetype": "text/x-python",
   "name": "python",
   "nbconvert_exporter": "python",
   "pygments_lexer": "ipython3",
   "version": "3.5.2"
  }
 },
 "nbformat": 4,
 "nbformat_minor": 2
}
