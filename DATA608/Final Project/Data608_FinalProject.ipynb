{
 "cells": [
  {
   "cell_type": "markdown",
   "metadata": {},
   "source": [
    "**DATA 608 - Final Project - Bruce Hao**\n",
    "\n",
    "**Description**: The following Python notebook describes and shows how various technical trading strategies have performed in recent history. The data used are freely available, historical price data for various instruments from Quandl via its API, and the visualizations were created using Python/Plotly. "
   ]
  },
  {
   "cell_type": "markdown",
   "metadata": {},
   "source": [
    "**Relevance**: With traditional investment options (stocks and bonds) valued at or near all time highs, additional means of adding diversification to investment portfolios are more critical than ever, and this project highlights just one potential way of doing so. \n",
    "\n",
    "As you can see in the chart below, the S&P 500, which is a broad index of U.S. stocks has been on an almost uninterrupted tear since the Great Recession of 2008. It has eclipsed the peaks of the tech bubble of late 90s and the debt-fueled boom in the mid 2000s, and it continues to set new record highs week after week, month after month. \n",
    "\n",
    "<img src=\"files/sp500.png\">\n",
    "\n",
    "Perhaps even more remarkably, 10-Year U.S. Treasury yields have been declining consistently since the second oil crisis of 1979. While yields have creeped up slightly in recent months, they remain at around 3% which is just north of the rate of inflation. \n",
    "<img src=\"files/ust10.png\">\n",
    "\n",
    "With asset prices at these record levels, it's hard to imagine very strong expected returns in the future (although people have been saying that for years now and have been wrong for just as long). As a result, we do see new asset classes entering the mainstream. While real estate became an asset class in the 2000, the 2010s have seen the entrance of new asset classes, like marketplace lending (e.g. Lending Club), crowd-funded angel investing (e.g. Angel's List) and now cryptocurrencies (e.g. Bitcoin). \n",
    "\n",
    "In addition to new asset classes, investors may seek to deploy alternative investment strategies to add diversification to portfolios. Today we'll cover one such strategy, trading futures within an algorithmic trading system. While I wrote all the code that underpins this presentation and my personal trading system, the actual system is based heavily on the system described in Rob Carver's book *Systematic Trading*.   "
   ]
  },
  {
   "cell_type": "markdown",
   "metadata": {},
   "source": [
    "**Note**: This notebook is meant to help describe and visualize how the trading strategies work. While it does touch on data acquisition, it does NOT delve deeply into how futures contracts work nor how the data must be stitched together. Nor does this project expand heavily on how the various trading strategies are combined into a portfolio. Please see the `SysTrade_v01.py` Python file in the following Github repository for those details: https://github.com/haobruce/CUNY/tree/master/DATA608/Final%20Project \n",
    "\n",
    "**Background**: A full rundown of this trading system is beyond the scope of this project. At a high level, the system entails: \n",
    "1. Selecting various instruments, in this case various futures contracts, e.g. corn, gold, natural gas, European STOXX, Eurodollar and European VSTOXX (volatility) futures [symbols: YC, MGC, QG, FESX, ED and FVS, respectively] \n",
    "2. Applying various trading strategies, i.e. algorithms to determine how much to buy or sell of a given instrument. This system uses a trend following strategy and a carry strategy. As the name suggests, a trend following strategy profits when instrument prices follow a trend. A carry strategy profits when instrument prices remain unchanged.  \n",
    "3. Applying a risk and portfolio management algorithm that combines the buy/sell signals of the various instrument trading strategies while balancing the relative risk/reward of each instrument trading strategy and the correlations between them.  \n",
    "\n",
    "**Project Output**: The code and visualizations are intended to shed light on the following: \n",
    "1. How are the data acquired? \n",
    "2. How is a trend following strategy implemented for a given instrument? \n",
    "3. How has the overall trading system performed since the beginning of 2017? "
   ]
  },
  {
   "cell_type": "code",
   "execution_count": 5,
   "metadata": {},
   "outputs": [],
   "source": [
    "import pandas as pd\n",
    "import datetime as dt\n",
    "import matplotlib.pyplot as plt\n",
    "from ggplot import *\n",
    "import plotly as py\n",
    "py.tools.set_credentials_file(username='brucehao', api_key='wTPz7hyBW1HSjXhs3HbG')\n",
    "import cufflinks as cf\n",
    "import warnings\n",
    "warnings.filterwarnings('ignore')"
   ]
  },
  {
   "cell_type": "code",
   "execution_count": 6,
   "metadata": {},
   "outputs": [],
   "source": [
    "# the following code imports the aforementioned `SysTrade_v01` Python file as a module \n",
    "import sys\n",
    "sys.path.append('/Users/brucehao/Google Drive/CUNY/git/DATA608/Final Project')\n",
    "import SysTrade_v01 as st"
   ]
  },
  {
   "cell_type": "markdown",
   "metadata": {},
   "source": [
    "**How are the data acquired?**\n",
    "\n",
    "This trading system requires only historical price data for its constituent futures contracts. \n",
    "\n",
    "Quandl is a platform for all sorts of data relevant for investment professionals, e.g. financial, economic, price, etc. Some data on Quandl is only available to paid subscribers, but much of it is freely available (including all of the data used in this sytem). Quandl also makes it very easy to access the information on its platform. In this case, the `quandl` Python module contains functions that make API calls to and retrieve data from Quandl's databases. An example call is shown below: "
   ]
  },
  {
   "cell_type": "markdown",
   "metadata": {},
   "source": [
    "prices = quandl.get([symbol_name], authtoken=[auth_token])\n",
    "\n",
    "In this case, `prices` is a dataframe that contains historical price (plus other information) for whatever symbol is called. \n",
    "\n",
    "Note: Quandl provides each user with an authorization token as the number of API calls is limited based on a user's subscriptions. "
   ]
  },
  {
   "cell_type": "markdown",
   "metadata": {},
   "source": [
    "**How is a trend following strategy implemented for a given instrument?** \n",
    "\n",
    "The basis for the trend following strategy in the trading system is comparing a 'fast' exponentially weighted moving average (EWMA) vs. a 'slow' EWMA for a given instrument's price. The example below uses the 8-day EWMA vs. the 32-day EWMA for Mexican Peso (MP) futures contracts. \n",
    "\n",
    "The signal strength is calculated simply as the fast EWMA less the slow EWMA. Since when the underlying price is increasing, the fast EWMA shoud exceed the slow EWMA, resulting in a positive signal strength and thus a buy signal. The faster the underlying price increases, the larger this difference and buy signal should be. "
   ]
  },
  {
   "cell_type": "code",
   "execution_count": 7,
   "metadata": {},
   "outputs": [],
   "source": [
    "forecast_inputs_MP = st.get_forecast_inputs('MP', start_year=2017)\n",
    "ewma_MP_0832 = st.calc_ewmac_crossovers(forecast_inputs_MP, 8, 32)"
   ]
  },
  {
   "cell_type": "code",
   "execution_count": 8,
   "metadata": {},
   "outputs": [
    {
     "ename": "SyntaxError",
     "evalue": "invalid syntax (<ipython-input-8-7e16f84753e8>, line 5)",
     "output_type": "error",
     "traceback": [
      "\u001b[0;36m  File \u001b[0;32m\"<ipython-input-8-7e16f84753e8>\"\u001b[0;36m, line \u001b[0;32m5\u001b[0m\n\u001b[0;31m    title ='8 & 32 Day EWMA - Mexican Peso')\u001b[0m\n\u001b[0m        ^\u001b[0m\n\u001b[0;31mSyntaxError\u001b[0m\u001b[0;31m:\u001b[0m invalid syntax\n"
     ]
    }
   ],
   "source": [
    "ewma_MP_0832['Date'] = ewma_MP_0832.index\n",
    "\n",
    "ewma_MP_0832[['Settle', 'Fast', 'Slow']].iplot(kind  ='scatter', filename='ewma-MP-0832',\n",
    "                                               yTitle='Instrument Price',\n",
    "                                               title ='8 & 32 Day EWMA - Mexican Peso')"
   ]
  },
  {
   "cell_type": "markdown",
   "metadata": {},
   "source": [
    "Therefore, in the chart below, when the blue line (fast EWMA) is above the green line (slow EWMA), the system should be buying Mexican Pesos. Of course the opposite the also true. The line in the chart below shows the signal strength for this instrument strategy combination. The system should be buying Mexican Pesos whenever the line is above zero and vice versa. Higher absolute values equate to strong signal strengths and thus larger buy/sell signals. "
   ]
  },
  {
   "cell_type": "code",
   "execution_count": null,
   "metadata": {},
   "outputs": [],
   "source": [
    "ewma_MP_0832[['RawCrossover']].iplot(kind  ='scatter', filename='ewma-MP-0832-crossover',\n",
    "                                     yTitle='Fast EWMA less Slow EWMA',\n",
    "                                     title ='8 & 32 Day EWMA Raw Forecast Strength - Mexican Peso')"
   ]
  },
  {
   "cell_type": "markdown",
   "metadata": {},
   "source": [
    "**How has the overall trading system performed since the beginning of 2017?**\n",
    "\n",
    "The aforementioned instrument trading strategies are risk adjusted and combined into a single portfolio. A backtest this portfolio from the beginning of 2017. In this example, the portfolio started with a \\$100,000 value, and portfolio volatility was targeted at 25%."
   ]
  },
  {
   "cell_type": "markdown",
   "metadata": {},
   "source": [
    "As illustrated by the chart below, 4 of the 6 instruments were profitable during the period with FVS far outperforming the rest. FVS is the volatility index for the Euro Stoxx 50 index. Throughout 2017, volatility was declining, and so selling volatility was a highly profitable trade during the year. Note that the long/short positions for the various instruments are not shown here. "
   ]
  },
  {
   "cell_type": "code",
   "execution_count": null,
   "metadata": {},
   "outputs": [],
   "source": [
    "symbols_list = ['YC', 'MGC', 'QG', 'FESX', 'ED', 'FVS']\n",
    "test = st.run_backtest(symbols_list, dt.date(2017, 1, 1))"
   ]
  },
  {
   "cell_type": "code",
   "execution_count": null,
   "metadata": {},
   "outputs": [],
   "source": [
    "df_instruments = pd.DataFrame({'Symbol': symbols_list[0],\n",
    "                               'GainLossCum': test[1][symbols_list[0]]['GainLossCum']})\n",
    "for symbol in symbols_list[1:]:\n",
    "    df_temp = pd.DataFrame({'Symbol': symbol,\n",
    "                            'GainLossCum': test[1][symbol]['GainLossCum']})\n",
    "    df_instruments = df_instruments.append(df_temp)\n",
    "\n",
    "df_instruments = df_instruments[df_instruments.index > dt.datetime(2017, 1, 1)]\n",
    "\n",
    "df_instruments_tbl = pd.pivot_table(df_instruments,  values='GainLossCum', index='Date', columns='Symbol')"
   ]
  },
  {
   "cell_type": "code",
   "execution_count": null,
   "metadata": {},
   "outputs": [],
   "source": [
    "df_instruments_tbl.iplot(kind ='scatter', filename='df-instruments',\n",
    "                         yTitle='Cumulative Gain/Loss',\n",
    "                         title ='$100,000 Portfolio @ 25% Volatility Target by Instrument')"
   ]
  },
  {
   "cell_type": "markdown",
   "metadata": {},
   "source": [
    "The overall portfolio profit is shown in the chart below. As of the date of this project, the trading system generated over \\$70,000 in profit, which is quite exceptional when starting with \\$100,000 and limiting volatility to 25%. \n",
    "\n",
    "Note that the significant dips are simply days when some of the instruments are not trading, i.e. missing data, and do not represent real losses. "
   ]
  },
  {
   "cell_type": "code",
   "execution_count": null,
   "metadata": {},
   "outputs": [],
   "source": [
    "df_sum = df_instruments.groupby('Date').sum()\n",
    "\n",
    "df_sum.iplot(kind  ='scatter', filename='df-sum', \n",
    "             yTitle='Cumulative Gain/Loss',\n",
    "             title ='$100,000 Portfolio @ 25% Volatility Target')"
   ]
  },
  {
   "cell_type": "markdown",
   "metadata": {},
   "source": [
    "Credits: While I wrote all of the code in this project and for my personal trading system, the system itself is based entirely off of Rob Carver's book *Systematic Trading*, which I cannot recommend highly enough for anyone interested in designing their own trading system. "
   ]
  }
 ],
 "metadata": {
  "kernelspec": {
   "display_name": "Python 3",
   "language": "python",
   "name": "python3"
  },
  "language_info": {
   "codemirror_mode": {
    "name": "ipython",
    "version": 3
   },
   "file_extension": ".py",
   "mimetype": "text/x-python",
   "name": "python",
   "nbconvert_exporter": "python",
   "pygments_lexer": "ipython3",
   "version": "3.6.4"
  }
 },
 "nbformat": 4,
 "nbformat_minor": 2
}
