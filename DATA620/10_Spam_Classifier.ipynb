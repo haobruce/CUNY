{
 "cells": [
  {
   "cell_type": "code",
   "execution_count": 27,
   "metadata": {},
   "outputs": [],
   "source": [
    "import nltk \n",
    "import pandas as pd \n",
    "import os\n",
    "from sklearn.model_selection import train_test_split\n"
   ]
  },
  {
   "cell_type": "markdown",
   "metadata": {},
   "source": [
    "Given that the UCI data was in CSV format, it seemed simplest to import as a dataframe. I then appended the column headers for analytics purposes. "
   ]
  },
  {
   "cell_type": "code",
   "execution_count": 21,
   "metadata": {},
   "outputs": [],
   "source": [
    "# import data and add column names\n",
    "columns = ['class','word_freq_make','word_freq_address','word_freq_all','word_freq_3d','word_freq_our',\n",
    "           'word_freq_over','word_freq_remove','word_freq_internet','word_freq_order','word_freq_mail', \n",
    "           'word_freq_receive','word_freq_will','word_freq_people','word_freq_report','word_freq_addresses', \n",
    "           'word_freq_free','word_freq_business','word_freq_email','word_freq_you','word_freq_credit',\n",
    "           'word_freq_your','word_freq_font','word_freq_000','word_freq_money','word_freq_hp','word_freq_hpl',\n",
    "           'word_freq_george','word_freq_650','word_freq_lab','word_freq_labs','word_freq_telnet',\n",
    "           'word_freq_857','word_freq_data','word_freq_415','word_freq_85','word_freq_technology',\n",
    "           'word_freq_1999','word_freq_parts','word_freq_pm','word_freq_direct','word_freq_cs','word_freq_meeting',\n",
    "           'word_freq_original','word_freq_project','word_freq_re','word_freq_edu','word_freq_table',\n",
    "           'word_freq_conference','char_freq_;','char_freq_(','char_freq_[','\\char_freq_!','char_freq_$',\n",
    "           'char_freq_#','capital_run_length_average','capital_run_length_longest','capital_run_length_total']\n",
    "\n",
    "raw_df = pd.read_csv(os.getcwd() + '/spambase/spambase.data', names=columns)"
   ]
  },
  {
   "cell_type": "markdown",
   "metadata": {},
   "source": [
    "I then randomized the data before splitting the data into separate dataframes for the class and features. "
   ]
  },
  {
   "cell_type": "code",
   "execution_count": 51,
   "metadata": {},
   "outputs": [],
   "source": [
    "random_df = raw_df.sample(frac=1).reset_index(drop=True)\n",
    "spam = random_df['class']\n",
    "features = random_df.drop('class', axis=1)"
   ]
  },
  {
   "cell_type": "markdown",
   "metadata": {},
   "source": [
    "To acommodate NLTK's formatting requirements, I created a feature generator function to conver each row of features within the dataframe into a dictionary. I then used list comprehension to combine the features dictionaries and class as two parts of a tuple to be fed into the classification algorithms. Finally, I split the data into training and test sets. "
   ]
  },
  {
   "cell_type": "code",
   "execution_count": 52,
   "metadata": {},
   "outputs": [],
   "source": [
    "# create feature dictionary based on dataframe \n",
    "def feature_gen(sample): \n",
    "    return sample.to_dict()"
   ]
  },
  {
   "cell_type": "code",
   "execution_count": 53,
   "metadata": {},
   "outputs": [],
   "source": [
    "# create feature list for nltk classification format \n",
    "featureset = [(feature_gen(features.iloc[idx]), spam.iloc[idx]) for idx in features.index]"
   ]
  },
  {
   "cell_type": "code",
   "execution_count": 57,
   "metadata": {},
   "outputs": [],
   "source": [
    "# create train and test sets \n",
    "train_set, test_set = featureset[1000:], featureset[:1000]"
   ]
  },
  {
   "cell_type": "markdown",
   "metadata": {},
   "source": [
    "I tried both a Naive Bayes classifier along with a Decision Tree one. I attempted a Max Entropy classifier, but my machine was not able to run it in a timely matter. After training the two classifiers, I computed accuracy rates on the test set for both. "
   ]
  },
  {
   "cell_type": "code",
   "execution_count": 67,
   "metadata": {},
   "outputs": [],
   "source": [
    "# train various classifiers \n",
    "classifier_nb       = nltk.NaiveBayesClassifier.train(train_set)\n",
    "# classifier_max_ent  = nltk.classify.MaxentClassifier.train(train_set)\n",
    "classifier_dec_tree = nltk.DecisionTreeClassifier.train(train_set)"
   ]
  },
  {
   "cell_type": "code",
   "execution_count": 69,
   "metadata": {},
   "outputs": [],
   "source": [
    "test_acc_nb       = nltk.classify.accuracy(classifier_nb, test_set)\n",
    "# test_acc_max_ent  = nltk.classify.accuracy(classifier_max_ent, test_set)\n",
    "test_acc_dec_tree = nltk.classify.accuracy(classifier_dec_tree, test_set)"
   ]
  },
  {
   "cell_type": "markdown",
   "metadata": {},
   "source": [
    "As you can see from the chart below, the Naive Bayes classifier outperformed the Decision Tree one by several percentage points. Both performed OK with accuracy in the high 70s to low 80s. "
   ]
  },
  {
   "cell_type": "code",
   "execution_count": 74,
   "metadata": {},
   "outputs": [
    {
     "data": {
      "image/png": "[encoded data removed]",
      "text/plain": [
       "<Figure size 432x288 with 1 Axes>"
      ]
     },
     "metadata": {},
     "output_type": "display_data"
    }
   ],
   "source": [
    "test_acc_df = pd.DataFrame({'classifier': ['naive_bayes', 'decision_tree'],\n",
    "                            'accuracy' : [test_acc_nb, test_acc_dec_tree]})\n",
    "import seaborn as sns\n",
    "sns.set(style='whitegrid')\n",
    "ax = sns.barplot(x='accuracy', y='classifier', \n",
    "                 data=test_acc_df).set_title('test set accuracy')"
   ]
  },
  {
   "cell_type": "markdown",
   "metadata": {},
   "source": [
    "The top 5 most informative featues for the Naive Bayes classifier are listed below. The top two seem related to dates, years specifically, with the frequency of 000 and 1999 seeming to be the most predictive features available. "
   ]
  },
  {
   "cell_type": "code",
   "execution_count": 75,
   "metadata": {},
   "outputs": [
    {
     "name": "stdout",
     "output_type": "stream",
     "text": [
      "Most Informative Features\n",
      "           word_freq_000 = 0.09             0.09 : 0.0    =    299.4 : 1.0\n",
      "          word_freq_1999 = 0.29             0.14 : 0.0    =    297.0 : 1.0\n",
      "       word_freq_meeting = 0.2               0.1 : 0.0    =    253.8 : 1.0\n",
      "        word_freq_people = 0.19             1.18 : 0.0    =    193.1 : 1.0\n",
      "      word_freq_internet = 0.09             0.09 : 0.0    =    192.1 : 1.0\n"
     ]
    }
   ],
   "source": [
    "classifier_nb.show_most_informative_features(5)"
   ]
  }
 ],
 "metadata": {
  "kernelspec": {
   "display_name": "Python 3",
   "language": "python",
   "name": "python3"
  },
  "language_info": {
   "codemirror_mode": {
    "name": "ipython",
    "version": 3
   },
   "file_extension": ".py",
   "mimetype": "text/x-python",
   "name": "python",
   "nbconvert_exporter": "python",
   "pygments_lexer": "ipython3",
   "version": "3.6.4"
  }
 },
 "nbformat": 4,
 "nbformat_minor": 2
}
