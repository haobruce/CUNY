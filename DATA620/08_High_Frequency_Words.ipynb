{
 "cells": [
  {
   "cell_type": "code",
   "execution_count": 7,
   "metadata": {},
   "outputs": [],
   "source": [
    "import nltk\n",
    "from urllib import request\n",
    "from nltk.tokenize import RegexpTokenizer"
   ]
  },
  {
   "cell_type": "markdown",
   "metadata": {},
   "source": [
    "1. Choose a corpus of interest  \n",
    "\n",
    "Here I've chosen an example included within the text, _Crime and Punishment_ by Fyodor Dostoevsky"
   ]
  },
  {
   "cell_type": "code",
   "execution_count": 8,
   "metadata": {},
   "outputs": [
    {
     "data": {
      "text/plain": [
       "'\\ufeffThe Project Gutenberg EBook of Crime and Punishment, by Fyodor Dostoevsky\\r\\n\\r\\nThis eBook is for the '"
      ]
     },
     "execution_count": 8,
     "metadata": {},
     "output_type": "execute_result"
    }
   ],
   "source": [
    "url = \"http://www.gutenberg.org/files/2554/2554-0.txt\"\n",
    "response = request.urlopen(url)\n",
    "raw = response.read().decode('utf8')\n",
    "raw[:100]"
   ]
  },
  {
   "cell_type": "markdown",
   "metadata": {},
   "source": [
    "2. How many total unique words are in the corpus? (Please feel free to define unique words in any interesting,\n",
    "defensible way)."
   ]
  },
  {
   "cell_type": "code",
   "execution_count": 17,
   "metadata": {},
   "outputs": [
    {
     "name": "stdout",
     "output_type": "stream",
     "text": [
      "first 10 vocab words: ['a', 'aback', 'abandon', 'abandoned', 'abandoning', 'abasement', 'aberration', 'abide', 'abiding', 'ability']\n",
      "last 10 vocab words: ['yourselves', 'youth', 'youthful', 'yprus', 'yrolese', 'yrus', 'zeal', 'zest', 'zigzags', 'zip']\n",
      "unique words: 10174\n"
     ]
    }
   ],
   "source": [
    "tokenizer = RegexpTokenizer(r'[a-z]+')  # use a regex tokenizer to parse out words, excluding numbers and punctuation \n",
    "tokens = tokenizer.tokenize(raw)  # apply the tokenizer to separate raw text into separate words \n",
    "text = nltk.Text(tokens)  # create an NLTK text \n",
    "words = [w.lower() for w in text]  # normalize words \n",
    "vocab = sorted(set(words))  # build vocabulary \n",
    "\n",
    "print('first 10 vocab words: ' + str(vocab[:10]))\n",
    "print('last 10 vocab words: ' + str(vocab[-10:]))\n",
    "print('unique words: %d' % len(vocab))"
   ]
  },
  {
   "cell_type": "markdown",
   "metadata": {},
   "source": [
    "3. Taking the most common words, how many unique words represent half of the total words in the corpus?"
   ]
  },
  {
   "cell_type": "code",
   "execution_count": 25,
   "metadata": {},
   "outputs": [
    {
     "data": {
      "text/html": [
       "<div>\n",
       "<style scoped>\n",
       "    .dataframe tbody tr th:only-of-type {\n",
       "        vertical-align: middle;\n",
       "    }\n",
       "\n",
       "    .dataframe tbody tr th {\n",
       "        vertical-align: top;\n",
       "    }\n",
       "\n",
       "    .dataframe thead th {\n",
       "        text-align: right;\n",
       "    }\n",
       "</style>\n",
       "<table border=\"1\" class=\"dataframe\">\n",
       "  <thead>\n",
       "    <tr style=\"text-align: right;\">\n",
       "      <th></th>\n",
       "      <th>vocab</th>\n",
       "      <th>count</th>\n",
       "    </tr>\n",
       "  </thead>\n",
       "  <tbody>\n",
       "    <tr>\n",
       "      <th>0</th>\n",
       "      <td>the</td>\n",
       "      <td>7445</td>\n",
       "    </tr>\n",
       "    <tr>\n",
       "      <th>1</th>\n",
       "      <td>and</td>\n",
       "      <td>6291</td>\n",
       "    </tr>\n",
       "    <tr>\n",
       "      <th>2</th>\n",
       "      <td>to</td>\n",
       "      <td>5417</td>\n",
       "    </tr>\n",
       "    <tr>\n",
       "      <th>3</th>\n",
       "      <td>he</td>\n",
       "      <td>4637</td>\n",
       "    </tr>\n",
       "    <tr>\n",
       "      <th>4</th>\n",
       "      <td>a</td>\n",
       "      <td>4488</td>\n",
       "    </tr>\n",
       "  </tbody>\n",
       "</table>\n",
       "</div>"
      ],
      "text/plain": [
       "  vocab  count\n",
       "0   the   7445\n",
       "1   and   6291\n",
       "2    to   5417\n",
       "3    he   4637\n",
       "4     a   4488"
      ]
     },
     "execution_count": 25,
     "metadata": {},
     "output_type": "execute_result"
    }
   ],
   "source": [
    "fdist = nltk.FreqDist(words)\n",
    "\n",
    "import pandas as pd\n",
    "\n",
    "# convert fdist dictionary into dataframe (although I'm sure there's a more elegant way to do this)\n",
    "df_vocab = pd.DataFrame.from_dict(fdist, orient='index')\n",
    "df_vocab.reset_index(inplace=True)\n",
    "df_vocab.columns = ['vocab', 'count']\n",
    "df_vocab.sort_values('count', ascending=False, inplace=True)\n",
    "df_vocab.reset_index(drop=True, inplace=True)\n",
    "df_vocab.head()"
   ]
  },
  {
   "cell_type": "code",
   "execution_count": 27,
   "metadata": {},
   "outputs": [
    {
     "name": "stdout",
     "output_type": "stream",
     "text": [
      "number of unique words representing half of total words: 74\n"
     ]
    }
   ],
   "source": [
    "# loop through sorted dataframe until cumulative words exceeds 50% of total words \n",
    "cumulative_words = 0 \n",
    "idx = 0\n",
    "while cumulative_words / len(words) < 0.5: \n",
    "    cumulative_words += df_vocab.loc[idx, 'count']\n",
    "    idx += 1\n",
    "print('number of unique words representing half of total words: %d' % (idx - 1))"
   ]
  },
  {
   "cell_type": "markdown",
   "metadata": {},
   "source": [
    "4. Identify the 200 highest frequency words in this corpus."
   ]
  },
  {
   "cell_type": "code",
   "execution_count": 31,
   "metadata": {},
   "outputs": [
    {
     "data": {
      "text/plain": [
       "array(['the', 'and', 'to', 'he', 'a', 'of', 'you', 'in', 'that', 'it',\n",
       "       'was', 'his', 'at', 's', 't', 'her', 'not', 'with', 'for', 'him',\n",
       "       'had', 'on', 'is', 'e', 'she', 'all', 'as', 'be', 'but', 'have',\n",
       "       'me', 'are', 'so', 'askolnikov', 'what', 'nd', 'my', 'hat', 'from',\n",
       "       'were', 'ut', 'out', 'up', 'your', 'this', 'there', 'ou', 'they',\n",
       "       'them', 'one', 'been', 'or', 'an', 'by', 'would', 'o', 'here',\n",
       "       'will', 'am', 'about', 'know', 'said', 'no', 'too', 'now', 'could',\n",
       "       'do', 'man', 'did', 'like', 'if', 'very', 'come', 'only', 'more',\n",
       "       'though', 'into', 'onia', 'how', 'can', 'again', 'time', 'has',\n",
       "       'some', 'don', 'see', 'who', 'll', 'when', 'went', 'then', 'go',\n",
       "       'azumihin', 'once', 'we', 'himself', 'which', 'ounia', 'before',\n",
       "       'even', 'thought', 'vanovna', 'down', 'must', 'say', 'looked',\n",
       "       've', 'etrovitch', 'day', 'something', 'room', 'little', 'such',\n",
       "       'last', 'still', 'just', 'began', 'away', 'suddenly', 'nothing',\n",
       "       'way', 'face', 'over', 'hy', 'eyes', 'h', 'came', 'cried', 'two',\n",
       "       'made', 'first', 'door', 'without', 'n', 'their', 'right', 'f',\n",
       "       'tell', 'aterina', 'other', 'should', 'ow', 'old', 'almost',\n",
       "       'looking', 'vidriga', 'hen', 'es', 'mother', 'off', 'lov',\n",
       "       'orfiry', 'may', 'after', 'ell', 'woman', 'hey', 'moment', 'why',\n",
       "       'think', 'good', 'make', 'us', 'head', 'back', 'get', 'another',\n",
       "       'asked', 'put', 'want', 'seemed', 'shall', 'much', 'our', 'than',\n",
       "       'long', 'going', 'same', 'any', 'understand', 'take', 'own',\n",
       "       'stood', 'turned', 'yotr', 'felt', 'course', 'look', 'took',\n",
       "       'money', 'quite', 'hand', 'people', 'might', 'great', 'perhaps',\n",
       "       'myself', 'heard', 'believe', 'everything', 'where'], dtype=object)"
      ]
     },
     "execution_count": 31,
     "metadata": {},
     "output_type": "execute_result"
    }
   ],
   "source": [
    "# fortunately, the dataframe lends itself to answering this question as well... \n",
    "df_vocab.loc[:200, 'vocab'].values"
   ]
  },
  {
   "cell_type": "markdown",
   "metadata": {},
   "source": [
    "5. Create a graph that shows the relative frequency of these 200 words."
   ]
  },
  {
   "cell_type": "code",
   "execution_count": 41,
   "metadata": {},
   "outputs": [
    {
     "data": {
      "image/png": "[encoded data removed]",
      "text/plain": [
       "<Figure size 1152x432 with 1 Axes>"
      ]
     },
     "metadata": {},
     "output_type": "display_data"
    }
   ],
   "source": [
    "%matplotlib inline\n",
    "import matplotlib.pyplot as plt\n",
    "\n",
    "plt.figure(3,figsize=(16,6)) \n",
    "fdist.plot(200)\n",
    "plt.show()"
   ]
  },
  {
   "cell_type": "markdown",
   "metadata": {},
   "source": [
    "6. Does the observed relative frequency of these words follow Zipf’s law? Explain.\n",
    "\n",
    "According to Zipf's law, \"given a large sample of words used, the frequency of any word is inversely proportional to its rank in the frequency table. So word number n has a frequency proportional to 1/n... Thus the most frequent word will occur about twice as often as the second most frequent word, three times as often as the third most frequent word, etc.\" \n",
    "\n",
    "Based on the top 10 words shown below, our corpus does not quite fit the law. You actually have to get to the 5th ranked word \"of\" before you get to half the frequency of the most frequent word. "
   ]
  },
  {
   "cell_type": "code",
   "execution_count": 43,
   "metadata": {},
   "outputs": [
    {
     "data": {
      "text/html": [
       "<div>\n",
       "<style scoped>\n",
       "    .dataframe tbody tr th:only-of-type {\n",
       "        vertical-align: middle;\n",
       "    }\n",
       "\n",
       "    .dataframe tbody tr th {\n",
       "        vertical-align: top;\n",
       "    }\n",
       "\n",
       "    .dataframe thead th {\n",
       "        text-align: right;\n",
       "    }\n",
       "</style>\n",
       "<table border=\"1\" class=\"dataframe\">\n",
       "  <thead>\n",
       "    <tr style=\"text-align: right;\">\n",
       "      <th></th>\n",
       "      <th>vocab</th>\n",
       "      <th>count</th>\n",
       "    </tr>\n",
       "  </thead>\n",
       "  <tbody>\n",
       "    <tr>\n",
       "      <th>0</th>\n",
       "      <td>the</td>\n",
       "      <td>7445</td>\n",
       "    </tr>\n",
       "    <tr>\n",
       "      <th>1</th>\n",
       "      <td>and</td>\n",
       "      <td>6291</td>\n",
       "    </tr>\n",
       "    <tr>\n",
       "      <th>2</th>\n",
       "      <td>to</td>\n",
       "      <td>5417</td>\n",
       "    </tr>\n",
       "    <tr>\n",
       "      <th>3</th>\n",
       "      <td>he</td>\n",
       "      <td>4637</td>\n",
       "    </tr>\n",
       "    <tr>\n",
       "      <th>4</th>\n",
       "      <td>a</td>\n",
       "      <td>4488</td>\n",
       "    </tr>\n",
       "    <tr>\n",
       "      <th>5</th>\n",
       "      <td>of</td>\n",
       "      <td>3851</td>\n",
       "    </tr>\n",
       "    <tr>\n",
       "      <th>6</th>\n",
       "      <td>you</td>\n",
       "      <td>3508</td>\n",
       "    </tr>\n",
       "    <tr>\n",
       "      <th>7</th>\n",
       "      <td>in</td>\n",
       "      <td>3103</td>\n",
       "    </tr>\n",
       "    <tr>\n",
       "      <th>8</th>\n",
       "      <td>that</td>\n",
       "      <td>3082</td>\n",
       "    </tr>\n",
       "    <tr>\n",
       "      <th>9</th>\n",
       "      <td>it</td>\n",
       "      <td>2957</td>\n",
       "    </tr>\n",
       "  </tbody>\n",
       "</table>\n",
       "</div>"
      ],
      "text/plain": [
       "  vocab  count\n",
       "0   the   7445\n",
       "1   and   6291\n",
       "2    to   5417\n",
       "3    he   4637\n",
       "4     a   4488\n",
       "5    of   3851\n",
       "6   you   3508\n",
       "7    in   3103\n",
       "8  that   3082\n",
       "9    it   2957"
      ]
     },
     "execution_count": 43,
     "metadata": {},
     "output_type": "execute_result"
    }
   ],
   "source": [
    "df_vocab[:10]"
   ]
  },
  {
   "cell_type": "markdown",
   "metadata": {},
   "source": [
    "7. In what ways do you think the frequency of the words in this corpus differ from “all words in all corpora.\"\n",
    "\n",
    "As mentioned above, Zipf's law, which is an observation of all corpora in general, does not seem to apply very well to this corpus. The drop off in frequency is not as steep as Zipf's law would suggest. This may be because the text was translated from another language into English or it may be a function of when this text was written. \n"
   ]
  }
 ],
 "metadata": {
  "kernelspec": {
   "display_name": "Python 3",
   "language": "python",
   "name": "python3"
  },
  "language_info": {
   "codemirror_mode": {
    "name": "ipython",
    "version": 3
   },
   "file_extension": ".py",
   "mimetype": "text/x-python",
   "name": "python",
   "nbconvert_exporter": "python",
   "pygments_lexer": "ipython3",
   "version": "3.6.4"
  }
 },
 "nbformat": 4,
 "nbformat_minor": 2
}
